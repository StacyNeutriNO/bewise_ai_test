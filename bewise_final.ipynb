{
 "cells": [
  {
   "cell_type": "markdown",
   "id": "2c5a78a0",
   "metadata": {},
   "source": [
    "# Загрузка и подготовка данных"
   ]
  },
  {
   "cell_type": "code",
   "execution_count": 1,
   "id": "c3564b30",
   "metadata": {},
   "outputs": [],
   "source": [
    "import numpy as np\n",
    "import pandas as pd\n",
    "\n",
    "from sklearn.metrics.pairwise import cosine_similarity\n",
    "import pymorphy2\n",
    "\n",
    "\n",
    "import torch\n",
    "from transformers import AutoTokenizer, AutoModel\n",
    "from tqdm.notebook import  tqdm"
   ]
  },
  {
   "cell_type": "code",
   "execution_count": 2,
   "id": "81e90738",
   "metadata": {},
   "outputs": [],
   "source": [
    "data = pd.read_csv(\"test_data.csv\")\n",
    "pd.set_option('display.max_colwidth', None)"
   ]
  },
  {
   "cell_type": "code",
   "execution_count": 3,
   "id": "4f4dec2e",
   "metadata": {},
   "outputs": [
    {
     "data": {
      "text/html": [
       "<div>\n",
       "<style scoped>\n",
       "    .dataframe tbody tr th:only-of-type {\n",
       "        vertical-align: middle;\n",
       "    }\n",
       "\n",
       "    .dataframe tbody tr th {\n",
       "        vertical-align: top;\n",
       "    }\n",
       "\n",
       "    .dataframe thead th {\n",
       "        text-align: right;\n",
       "    }\n",
       "</style>\n",
       "<table border=\"1\" class=\"dataframe\">\n",
       "  <thead>\n",
       "    <tr style=\"text-align: right;\">\n",
       "      <th></th>\n",
       "      <th>dlg_id</th>\n",
       "      <th>line_n</th>\n",
       "      <th>role</th>\n",
       "      <th>text</th>\n",
       "    </tr>\n",
       "  </thead>\n",
       "  <tbody>\n",
       "    <tr>\n",
       "      <th>0</th>\n",
       "      <td>0</td>\n",
       "      <td>0</td>\n",
       "      <td>manager</td>\n",
       "      <td>Алло</td>\n",
       "    </tr>\n",
       "    <tr>\n",
       "      <th>1</th>\n",
       "      <td>0</td>\n",
       "      <td>1</td>\n",
       "      <td>client</td>\n",
       "      <td>Алло здравствуйте</td>\n",
       "    </tr>\n",
       "    <tr>\n",
       "      <th>2</th>\n",
       "      <td>0</td>\n",
       "      <td>2</td>\n",
       "      <td>manager</td>\n",
       "      <td>Добрый день</td>\n",
       "    </tr>\n",
       "    <tr>\n",
       "      <th>3</th>\n",
       "      <td>0</td>\n",
       "      <td>3</td>\n",
       "      <td>client</td>\n",
       "      <td>Меня зовут ангелина компания диджитал бизнес звоним вам по поводу продления лицензии а мы с серым у вас скоро срок заканчивается</td>\n",
       "    </tr>\n",
       "    <tr>\n",
       "      <th>4</th>\n",
       "      <td>0</td>\n",
       "      <td>4</td>\n",
       "      <td>manager</td>\n",
       "      <td>Ага</td>\n",
       "    </tr>\n",
       "    <tr>\n",
       "      <th>5</th>\n",
       "      <td>0</td>\n",
       "      <td>5</td>\n",
       "      <td>client</td>\n",
       "      <td>Угу ну возможно вы рассмотрите и другие варианты видите это хорошая практика сравнивать</td>\n",
       "    </tr>\n",
       "    <tr>\n",
       "      <th>6</th>\n",
       "      <td>0</td>\n",
       "      <td>6</td>\n",
       "      <td>manager</td>\n",
       "      <td>Да мы работаем с компанией которая нам подливает поэтому спасибо огромное</td>\n",
       "    </tr>\n",
       "    <tr>\n",
       "      <th>7</th>\n",
       "      <td>0</td>\n",
       "      <td>7</td>\n",
       "      <td>manager</td>\n",
       "      <td>Как как бы уже до этого момента работаем все устраивает + у нас сопровождение поэтому</td>\n",
       "    </tr>\n",
       "    <tr>\n",
       "      <th>8</th>\n",
       "      <td>0</td>\n",
       "      <td>8</td>\n",
       "      <td>client</td>\n",
       "      <td>Угу а на что вы обращаете внимание при выборе</td>\n",
       "    </tr>\n",
       "    <tr>\n",
       "      <th>9</th>\n",
       "      <td>0</td>\n",
       "      <td>9</td>\n",
       "      <td>manager</td>\n",
       "      <td>Как бы нет</td>\n",
       "    </tr>\n",
       "  </tbody>\n",
       "</table>\n",
       "</div>"
      ],
      "text/plain": [
       "   dlg_id  line_n     role  \\\n",
       "0       0       0  manager   \n",
       "1       0       1   client   \n",
       "2       0       2  manager   \n",
       "3       0       3   client   \n",
       "4       0       4  manager   \n",
       "5       0       5   client   \n",
       "6       0       6  manager   \n",
       "7       0       7  manager   \n",
       "8       0       8   client   \n",
       "9       0       9  manager   \n",
       "\n",
       "                                                                                                                               text  \n",
       "0                                                                                                                              Алло  \n",
       "1                                                                                                                 Алло здравствуйте  \n",
       "2                                                                                                                       Добрый день  \n",
       "3  Меня зовут ангелина компания диджитал бизнес звоним вам по поводу продления лицензии а мы с серым у вас скоро срок заканчивается  \n",
       "4                                                                                                                               Ага  \n",
       "5                                           Угу ну возможно вы рассмотрите и другие варианты видите это хорошая практика сравнивать  \n",
       "6                                                         Да мы работаем с компанией которая нам подливает поэтому спасибо огромное  \n",
       "7                                             Как как бы уже до этого момента работаем все устраивает + у нас сопровождение поэтому  \n",
       "8                                                                                     Угу а на что вы обращаете внимание при выборе  \n",
       "9                                                                                                                        Как бы нет  "
      ]
     },
     "execution_count": 3,
     "metadata": {},
     "output_type": "execute_result"
    }
   ],
   "source": [
    "data.head(10)"
   ]
  },
  {
   "cell_type": "code",
   "execution_count": 4,
   "id": "00c56c4f",
   "metadata": {},
   "outputs": [],
   "source": [
    "#функция для лемматизации\n",
    "morph = pymorphy2.MorphAnalyzer()\n",
    "def lemmatize(text):\n",
    "    words = text.split()\n",
    "    res = list()\n",
    "    for word in words:\n",
    "        res.append(morph.parse(word)[0].normal_form)\n",
    "        \n",
    "    return \" \".join(res)"
   ]
  },
  {
   "cell_type": "code",
   "execution_count": 5,
   "id": "26f3cedc",
   "metadata": {},
   "outputs": [],
   "source": [
    "data['lemm_text'] = data['text'].apply(lemmatize) #лемматизируем текст\n",
    "\n",
    "data.drop('line_n', axis=1, inplace=True) #удалим ненужный столбец"
   ]
  },
  {
   "cell_type": "code",
   "execution_count": 6,
   "id": "19a59daa",
   "metadata": {},
   "outputs": [
    {
     "name": "stderr",
     "output_type": "stream",
     "text": [
      "Some weights of the model checkpoint at DeepPavlov/rubert-base-cased-conversational were not used when initializing BertModel: ['cls.seq_relationship.bias', 'cls.seq_relationship.weight', 'cls.predictions.transform.dense.weight', 'cls.predictions.transform.LayerNorm.weight', 'cls.predictions.decoder.weight', 'cls.predictions.bias', 'cls.predictions.transform.LayerNorm.bias', 'cls.predictions.transform.dense.bias', 'cls.predictions.decoder.bias']\n",
      "- This IS expected if you are initializing BertModel from the checkpoint of a model trained on another task or with another architecture (e.g. initializing a BertForSequenceClassification model from a BertForPreTraining model).\n",
      "- This IS NOT expected if you are initializing BertModel from the checkpoint of a model that you expect to be exactly identical (initializing a BertForSequenceClassification model from a BertForSequenceClassification model).\n"
     ]
    }
   ],
   "source": [
    "#импортируем предобученную модель\n",
    "\n",
    "tokenizer = AutoTokenizer.from_pretrained(\"DeepPavlov/rubert-base-cased-conversational\")\n",
    "model = AutoModel.from_pretrained(\"DeepPavlov/rubert-base-cased-conversational\")\n",
    "model.eval()\n",
    "# model.cuda()  #if you have a GPU\n",
    "\n",
    "#функция для получения эмбеддингов\n",
    "def embed_bert_cls(text, model, tokenizer):\n",
    "    t = tokenizer(text, padding=True, truncation=True, return_tensors='pt')\n",
    "    #[print(f'key: {k}, val: {v}') for k,v in t.items()]\n",
    "    with torch.no_grad():\n",
    "        model_output = model(**{k: v.to(model.device) for k, v in t.items()})\n",
    "    embeddings = model_output.last_hidden_state[:, 0, :]\n",
    "    embeddings = torch.nn.functional.normalize(embeddings) \n",
    "    return embeddings[0].cpu().numpy()\n"
   ]
  },
  {
   "cell_type": "markdown",
   "id": "bc6219fd",
   "metadata": {},
   "source": [
    "**Комментарий**\n",
    "    \n",
    "Есть ощущение, что роли перепутаны. Или же мы рассматриваем случай, когда в компанию звонит клиент и наш менеджер отвечает. Мы все-таки будем извлекать реплики, маркированные как 'client'. В любом случае это легко исправить, поменяв маркировку роли (закомментированная строка).\n"
   ]
  },
  {
   "cell_type": "code",
   "execution_count": 7,
   "id": "9cf60184",
   "metadata": {},
   "outputs": [],
   "source": [
    "#managers = data[data['role'] == 'manager'][['dlg_id','text','lemm_text']]"
   ]
  },
  {
   "cell_type": "code",
   "execution_count": 8,
   "id": "6b80fd22",
   "metadata": {},
   "outputs": [
    {
     "data": {
      "text/html": [
       "<div>\n",
       "<style scoped>\n",
       "    .dataframe tbody tr th:only-of-type {\n",
       "        vertical-align: middle;\n",
       "    }\n",
       "\n",
       "    .dataframe tbody tr th {\n",
       "        vertical-align: top;\n",
       "    }\n",
       "\n",
       "    .dataframe thead th {\n",
       "        text-align: right;\n",
       "    }\n",
       "</style>\n",
       "<table border=\"1\" class=\"dataframe\">\n",
       "  <thead>\n",
       "    <tr style=\"text-align: right;\">\n",
       "      <th></th>\n",
       "      <th>dlg_id</th>\n",
       "      <th>text</th>\n",
       "      <th>lemm_text</th>\n",
       "    </tr>\n",
       "  </thead>\n",
       "  <tbody>\n",
       "    <tr>\n",
       "      <th>1</th>\n",
       "      <td>0</td>\n",
       "      <td>Алло здравствуйте</td>\n",
       "      <td>алло здравствуйте</td>\n",
       "    </tr>\n",
       "    <tr>\n",
       "      <th>3</th>\n",
       "      <td>0</td>\n",
       "      <td>Меня зовут ангелина компания диджитал бизнес звоним вам по поводу продления лицензии а мы с серым у вас скоро срок заканчивается</td>\n",
       "      <td>я звать ангелина компания диджитал бизнес звонить вы по повод продление лицензия а мы с серый у вы скоро срок заканчиваться</td>\n",
       "    </tr>\n",
       "    <tr>\n",
       "      <th>5</th>\n",
       "      <td>0</td>\n",
       "      <td>Угу ну возможно вы рассмотрите и другие варианты видите это хорошая практика сравнивать</td>\n",
       "      <td>угу ну возможно вы рассмотреть и другой вариант видеть это хороший практика сравнивать</td>\n",
       "    </tr>\n",
       "    <tr>\n",
       "      <th>8</th>\n",
       "      <td>0</td>\n",
       "      <td>Угу а на что вы обращаете внимание при выборе</td>\n",
       "      <td>угу а на что вы обращать внимание при выбор</td>\n",
       "    </tr>\n",
       "    <tr>\n",
       "      <th>11</th>\n",
       "      <td>0</td>\n",
       "      <td>Что для вас приоритет</td>\n",
       "      <td>что для вы приоритет</td>\n",
       "    </tr>\n",
       "    <tr>\n",
       "      <th>...</th>\n",
       "      <td>...</td>\n",
       "      <td>...</td>\n",
       "      <td>...</td>\n",
       "    </tr>\n",
       "    <tr>\n",
       "      <th>472</th>\n",
       "      <td>5</td>\n",
       "      <td>Так дмитрий</td>\n",
       "      <td>так дмитрий</td>\n",
       "    </tr>\n",
       "    <tr>\n",
       "      <th>473</th>\n",
       "      <td>5</td>\n",
       "      <td>Все записала тогда завтра ждите звонка</td>\n",
       "      <td>всё записать тогда завтра ждать звонок</td>\n",
       "    </tr>\n",
       "    <tr>\n",
       "      <th>475</th>\n",
       "      <td>5</td>\n",
       "      <td>По поводу виджетов и с ними уже обсудите конкретно продам</td>\n",
       "      <td>по повод виджет и с они уже обсудить конкретно продать</td>\n",
       "    </tr>\n",
       "    <tr>\n",
       "      <th>476</th>\n",
       "      <td>5</td>\n",
       "      <td>Все я вам высылаю счет и с вами на связи если будут вопросы можете писать на ватсапе</td>\n",
       "      <td>всё я вы высылать счёт и с вы на связь если быть вопрос мочь писать на ватсап</td>\n",
       "    </tr>\n",
       "    <tr>\n",
       "      <th>479</th>\n",
       "      <td>5</td>\n",
       "      <td>Ну до свидания хорошего вечера</td>\n",
       "      <td>ну до свидание хороший вечер</td>\n",
       "    </tr>\n",
       "  </tbody>\n",
       "</table>\n",
       "<p>201 rows × 3 columns</p>\n",
       "</div>"
      ],
      "text/plain": [
       "     dlg_id  \\\n",
       "1         0   \n",
       "3         0   \n",
       "5         0   \n",
       "8         0   \n",
       "11        0   \n",
       "..      ...   \n",
       "472       5   \n",
       "473       5   \n",
       "475       5   \n",
       "476       5   \n",
       "479       5   \n",
       "\n",
       "                                                                                                                                 text  \\\n",
       "1                                                                                                                   Алло здравствуйте   \n",
       "3    Меня зовут ангелина компания диджитал бизнес звоним вам по поводу продления лицензии а мы с серым у вас скоро срок заканчивается   \n",
       "5                                             Угу ну возможно вы рассмотрите и другие варианты видите это хорошая практика сравнивать   \n",
       "8                                                                                       Угу а на что вы обращаете внимание при выборе   \n",
       "11                                                                                                              Что для вас приоритет   \n",
       "..                                                                                                                                ...   \n",
       "472                                                                                                                       Так дмитрий   \n",
       "473                                                                                            Все записала тогда завтра ждите звонка   \n",
       "475                                                                         По поводу виджетов и с ними уже обсудите конкретно продам   \n",
       "476                                              Все я вам высылаю счет и с вами на связи если будут вопросы можете писать на ватсапе   \n",
       "479                                                                                                    Ну до свидания хорошего вечера   \n",
       "\n",
       "                                                                                                                       lemm_text  \n",
       "1                                                                                                              алло здравствуйте  \n",
       "3    я звать ангелина компания диджитал бизнес звонить вы по повод продление лицензия а мы с серый у вы скоро срок заканчиваться  \n",
       "5                                         угу ну возможно вы рассмотреть и другой вариант видеть это хороший практика сравнивать  \n",
       "8                                                                                    угу а на что вы обращать внимание при выбор  \n",
       "11                                                                                                          что для вы приоритет  \n",
       "..                                                                                                                           ...  \n",
       "472                                                                                                                  так дмитрий  \n",
       "473                                                                                       всё записать тогда завтра ждать звонок  \n",
       "475                                                                       по повод виджет и с они уже обсудить конкретно продать  \n",
       "476                                                всё я вы высылать счёт и с вы на связь если быть вопрос мочь писать на ватсап  \n",
       "479                                                                                                 ну до свидание хороший вечер  \n",
       "\n",
       "[201 rows x 3 columns]"
      ]
     },
     "execution_count": 8,
     "metadata": {},
     "output_type": "execute_result"
    }
   ],
   "source": [
    "managers = data[data['role'] == 'client'][['dlg_id','text','lemm_text']]\n",
    "managers"
   ]
  },
  {
   "cell_type": "code",
   "execution_count": 9,
   "id": "ed7742e1",
   "metadata": {},
   "outputs": [],
   "source": [
    "# функция для поиска индексов тех фраз, где встретилось \"приветсвие\" или \"прощание\"\n",
    "#-idx - индекс текущего текста\n",
    "#-idx_list -  список уже найденных индексов\n",
    "#-phrase - текущий текст\n",
    "#-base_embedding - базовый эмбеддинг, с которым ищем расстояние \n",
    "#-treshold - порог на косинусное расстояние\n",
    "\n",
    "def find_idx(idx, idx_list, phrase, base_embedding, threshold):\n",
    "    query_embedding = embed_bert_cls(phrase, model, tokenizer).reshape(1, -1)\n",
    "    cos = cosine_similarity(query_embedding, base_embedding)\n",
    "    if max(cos[0]) > threshold: #0.933\n",
    "        idx_list.append(idx)\n",
    "            \n",
    "    return idx_list  "
   ]
  },
  {
   "cell_type": "markdown",
   "id": "f755394d",
   "metadata": {},
   "source": [
    "# Приветствие"
   ]
  },
  {
   "cell_type": "code",
   "execution_count": 10,
   "id": "91c90417",
   "metadata": {},
   "outputs": [],
   "source": [
    "#что хотим найти в тексте\n",
    "greeting_words1 = ['приветcтвовать', 'здравствуйте']\n",
    "greeting_words2 = ['добрый день', 'день добрый', 'добрый вечер', 'вечер добрый', 'доброе утро', 'утро доброе']"
   ]
  },
  {
   "cell_type": "code",
   "execution_count": 11,
   "id": "f85889b7",
   "metadata": {},
   "outputs": [
    {
     "data": {
      "text/plain": [
       "['добрый день',\n",
       " 'день добрый',\n",
       " 'добрый вечер',\n",
       " 'вечер добрый',\n",
       " 'добрый утро',\n",
       " 'утро добрый']"
      ]
     },
     "execution_count": 11,
     "metadata": {},
     "output_type": "execute_result"
    }
   ],
   "source": [
    "for i in range(len(greeting_words2)):\n",
    "    greeting_words2[i] = lemmatize(greeting_words2[i])\n",
    "greeting_words2    "
   ]
  },
  {
   "cell_type": "code",
   "execution_count": 12,
   "id": "faec80dd",
   "metadata": {},
   "outputs": [
    {
     "name": "stderr",
     "output_type": "stream",
     "text": [
      "Asking to truncate to max_length but no maximum length is provided and the model has no predefined maximum length. Default to no truncation.\n"
     ]
    },
    {
     "data": {
      "text/plain": [
       "(2, 768)"
      ]
     },
     "execution_count": 12,
     "metadata": {},
     "output_type": "execute_result"
    }
   ],
   "source": [
    "#эмбеддинги для приветствий, состоящих из одного слова (базовые)\n",
    "greeting_embeddings1 = []\n",
    "for greeting in greeting_words1:\n",
    "    greeting_embeddings1.append(embed_bert_cls(greeting, model, tokenizer))\n",
    "    \n",
    "greeting_embeddings1 = np.array(greeting_embeddings1)\n",
    "greeting_embeddings1.shape"
   ]
  },
  {
   "cell_type": "code",
   "execution_count": 13,
   "id": "1983169f",
   "metadata": {},
   "outputs": [
    {
     "data": {
      "text/plain": [
       "(6, 768)"
      ]
     },
     "execution_count": 13,
     "metadata": {},
     "output_type": "execute_result"
    }
   ],
   "source": [
    "#эмбеддинги для приветствий, состоящих из двух слов (базовые)\n",
    "greeting_embeddings2 = []\n",
    "for greeting in greeting_words2:\n",
    "    greeting_embeddings2.append(embed_bert_cls(greeting, model, tokenizer))\n",
    "    \n",
    "greeting_embeddings2 = np.array(greeting_embeddings2)\n",
    "greeting_embeddings2.shape"
   ]
  },
  {
   "cell_type": "code",
   "execution_count": 14,
   "id": "160c3f25",
   "metadata": {},
   "outputs": [
    {
     "name": "stdout",
     "output_type": "stream",
     "text": [
      "huggingface/tokenizers: The current process just got forked, after parallelism has already been used. Disabling parallelism to avoid deadlocks...\n",
      "To disable this warning, you can either:\n",
      "\t- Avoid using `tokenizers` before the fork if possible\n",
      "\t- Explicitly set the environment variable TOKENIZERS_PARALLELISM=(true | false)\n"
     ]
    },
    {
     "data": {
      "application/vnd.jupyter.widget-view+json": {
       "model_id": "f14c192e5b524ef88cac4289a3bec7bc",
       "version_major": 2,
       "version_minor": 0
      },
      "text/plain": [
       "0:   0%|          | 0/15 [00:00<?, ?it/s]"
      ]
     },
     "metadata": {},
     "output_type": "display_data"
    },
    {
     "data": {
      "application/vnd.jupyter.widget-view+json": {
       "model_id": "37723b87f9a44ef6a92f2a4824e14a95",
       "version_major": 2,
       "version_minor": 0
      },
      "text/plain": [
       "1:   0%|          | 0/15 [00:00<?, ?it/s]"
      ]
     },
     "metadata": {},
     "output_type": "display_data"
    },
    {
     "data": {
      "application/vnd.jupyter.widget-view+json": {
       "model_id": "2ef59186f3b143a5b243a032fc34d50e",
       "version_major": 2,
       "version_minor": 0
      },
      "text/plain": [
       "2:   0%|          | 0/15 [00:00<?, ?it/s]"
      ]
     },
     "metadata": {},
     "output_type": "display_data"
    },
    {
     "data": {
      "application/vnd.jupyter.widget-view+json": {
       "model_id": "907345897fee427189c6733d1efacce3",
       "version_major": 2,
       "version_minor": 0
      },
      "text/plain": [
       "3:   0%|          | 0/15 [00:00<?, ?it/s]"
      ]
     },
     "metadata": {},
     "output_type": "display_data"
    },
    {
     "data": {
      "application/vnd.jupyter.widget-view+json": {
       "model_id": "8817d813113f48a8b4da5487947bc02b",
       "version_major": 2,
       "version_minor": 0
      },
      "text/plain": [
       "4:   0%|          | 0/14 [00:00<?, ?it/s]"
      ]
     },
     "metadata": {},
     "output_type": "display_data"
    },
    {
     "data": {
      "application/vnd.jupyter.widget-view+json": {
       "model_id": "02e71790aaae4c6ba7e48dbe78377fe6",
       "version_major": 2,
       "version_minor": 0
      },
      "text/plain": [
       "5:   0%|          | 0/15 [00:00<?, ?it/s]"
      ]
     },
     "metadata": {},
     "output_type": "display_data"
    }
   ],
   "source": [
    "#пройдемся по первым 15 предложениям каждого диалога, чтобы найти \"приветствие\"\n",
    "idx_greeting = []\n",
    "threshold = 0.933\n",
    "\n",
    "for dlg_id in managers.dlg_id.unique():\n",
    "    for i in tqdm(managers[managers['dlg_id']==dlg_id].index.tolist()[:15], desc=str(dlg_id)):\n",
    "        text = managers['lemm_text'].loc[i].split()\n",
    "\n",
    "        length = len(text)\n",
    "        if length == 1:\n",
    "            idx_greeting = find_idx(i, idx_greeting, text, greeting_embeddings1, threshold)\n",
    "            if text[0] in ['добрый', 'доброе']: #отдельно обработаем короткое приветсвие\n",
    "                idx_greeting.append(i)\n",
    "        else: \n",
    "            for j in range(length): \n",
    "                idx_greeting = find_idx(i, idx_greeting, text[j], greeting_embeddings1, threshold)\n",
    "                idx_greeting = find_idx(i, idx_greeting, text[j:j+2], greeting_embeddings2, threshold)\n",
    "\n",
    "idx_greeting = set(idx_greeting)"
   ]
  },
  {
   "cell_type": "code",
   "execution_count": 15,
   "id": "0743efa6",
   "metadata": {},
   "outputs": [],
   "source": [
    "data['greeting_flag'] = False\n",
    "data.loc[list(idx_greeting), 'greeting_flag'] = True"
   ]
  },
  {
   "cell_type": "code",
   "execution_count": 16,
   "id": "3876cab0",
   "metadata": {},
   "outputs": [
    {
     "data": {
      "text/html": [
       "<div>\n",
       "<style scoped>\n",
       "    .dataframe tbody tr th:only-of-type {\n",
       "        vertical-align: middle;\n",
       "    }\n",
       "\n",
       "    .dataframe tbody tr th {\n",
       "        vertical-align: top;\n",
       "    }\n",
       "\n",
       "    .dataframe thead th {\n",
       "        text-align: right;\n",
       "    }\n",
       "</style>\n",
       "<table border=\"1\" class=\"dataframe\">\n",
       "  <thead>\n",
       "    <tr style=\"text-align: right;\">\n",
       "      <th></th>\n",
       "      <th>dlg_id</th>\n",
       "      <th>text</th>\n",
       "      <th>lemm_text</th>\n",
       "      <th>greeting_flag</th>\n",
       "    </tr>\n",
       "  </thead>\n",
       "  <tbody>\n",
       "    <tr>\n",
       "      <th>1</th>\n",
       "      <td>0</td>\n",
       "      <td>Алло здравствуйте</td>\n",
       "      <td>алло здравствуйте</td>\n",
       "      <td>True</td>\n",
       "    </tr>\n",
       "    <tr>\n",
       "      <th>166</th>\n",
       "      <td>2</td>\n",
       "      <td>Алло здравствуйте</td>\n",
       "      <td>алло здравствуйте</td>\n",
       "      <td>True</td>\n",
       "    </tr>\n",
       "    <tr>\n",
       "      <th>110</th>\n",
       "      <td>1</td>\n",
       "      <td>Алло здравствуйте</td>\n",
       "      <td>алло здравствуйте</td>\n",
       "      <td>True</td>\n",
       "    </tr>\n",
       "    <tr>\n",
       "      <th>250</th>\n",
       "      <td>3</td>\n",
       "      <td>Алло дмитрий добрый день</td>\n",
       "      <td>алло дмитрий добрый день</td>\n",
       "      <td>True</td>\n",
       "    </tr>\n",
       "    <tr>\n",
       "      <th>251</th>\n",
       "      <td>3</td>\n",
       "      <td>Добрый меня максим зовут компания китобизнес удобно говорить</td>\n",
       "      <td>добрый я максим звать компания китобизнес удобно говорить</td>\n",
       "      <td>True</td>\n",
       "    </tr>\n",
       "  </tbody>\n",
       "</table>\n",
       "</div>"
      ],
      "text/plain": [
       "     dlg_id                                                          text  \\\n",
       "1         0                                             Алло здравствуйте   \n",
       "166       2                                             Алло здравствуйте   \n",
       "110       1                                             Алло здравствуйте   \n",
       "250       3                                      Алло дмитрий добрый день   \n",
       "251       3  Добрый меня максим зовут компания китобизнес удобно говорить   \n",
       "\n",
       "                                                     lemm_text  greeting_flag  \n",
       "1                                            алло здравствуйте           True  \n",
       "166                                          алло здравствуйте           True  \n",
       "110                                          алло здравствуйте           True  \n",
       "250                                   алло дмитрий добрый день           True  \n",
       "251  добрый я максим звать компания китобизнес удобно говорить           True  "
      ]
     },
     "execution_count": 16,
     "metadata": {},
     "output_type": "execute_result"
    }
   ],
   "source": [
    "greeting_table = managers.loc[list(idx_greeting)]\n",
    "greeting_table['greeting_flag'] = True\n",
    "greeting_table"
   ]
  },
  {
   "cell_type": "markdown",
   "id": "854762f8",
   "metadata": {},
   "source": [
    "# Прощание"
   ]
  },
  {
   "cell_type": "markdown",
   "id": "1e4ce1d3",
   "metadata": {},
   "source": [
    "**Комментарий**\n",
    "\n",
    "Аналогично работаем с прощаниями"
   ]
  },
  {
   "cell_type": "code",
   "execution_count": 17,
   "id": "e1738bcb",
   "metadata": {},
   "outputs": [],
   "source": [
    "parting_words1 = ['свидание']\n",
    "parting_words2 = ['до свидания', 'хорошего дня', 'хорошего вечера', 'хорошего дня', 'хорошего вечера']"
   ]
  },
  {
   "cell_type": "code",
   "execution_count": 18,
   "id": "08d52d84",
   "metadata": {},
   "outputs": [
    {
     "data": {
      "text/plain": [
       "['до свидание',\n",
       " 'хороший день',\n",
       " 'хороший вечер',\n",
       " 'хороший день',\n",
       " 'хороший вечер']"
      ]
     },
     "execution_count": 18,
     "metadata": {},
     "output_type": "execute_result"
    }
   ],
   "source": [
    "for i in range(len(parting_words2)):\n",
    "    parting_words2[i] = lemmatize(parting_words2[i])\n",
    "parting_words2   "
   ]
  },
  {
   "cell_type": "code",
   "execution_count": 19,
   "id": "f70d2b29",
   "metadata": {},
   "outputs": [
    {
     "data": {
      "text/plain": [
       "(1, 768)"
      ]
     },
     "execution_count": 19,
     "metadata": {},
     "output_type": "execute_result"
    }
   ],
   "source": [
    "parting_embeddings1 = []\n",
    "for parting in parting_words1:\n",
    "    parting_embeddings1.append(embed_bert_cls(parting, model, tokenizer))\n",
    "    \n",
    "parting_embeddings1 = np.array(parting_embeddings1)\n",
    "parting_embeddings1.shape"
   ]
  },
  {
   "cell_type": "code",
   "execution_count": 20,
   "id": "8402d1c6",
   "metadata": {},
   "outputs": [
    {
     "data": {
      "text/plain": [
       "(5, 768)"
      ]
     },
     "execution_count": 20,
     "metadata": {},
     "output_type": "execute_result"
    }
   ],
   "source": [
    "parting_embeddings2 = []\n",
    "for parting in parting_words2:\n",
    "    parting_embeddings2.append(embed_bert_cls(parting, model, tokenizer))\n",
    "    \n",
    "parting_embeddings2 = np.array(parting_embeddings2)\n",
    "parting_embeddings2.shape"
   ]
  },
  {
   "cell_type": "code",
   "execution_count": 21,
   "id": "2bfb3244",
   "metadata": {},
   "outputs": [
    {
     "data": {
      "application/vnd.jupyter.widget-view+json": {
       "model_id": "74a84deca596492f8c51b62e8349cbe0",
       "version_major": 2,
       "version_minor": 0
      },
      "text/plain": [
       "0:   0%|          | 0/15 [00:00<?, ?it/s]"
      ]
     },
     "metadata": {},
     "output_type": "display_data"
    },
    {
     "data": {
      "application/vnd.jupyter.widget-view+json": {
       "model_id": "f15c66d70a91449eb663b45e3723e3ac",
       "version_major": 2,
       "version_minor": 0
      },
      "text/plain": [
       "1:   0%|          | 0/15 [00:00<?, ?it/s]"
      ]
     },
     "metadata": {},
     "output_type": "display_data"
    },
    {
     "data": {
      "application/vnd.jupyter.widget-view+json": {
       "model_id": "354478b19727449ea1d10bc47074a01d",
       "version_major": 2,
       "version_minor": 0
      },
      "text/plain": [
       "2:   0%|          | 0/15 [00:00<?, ?it/s]"
      ]
     },
     "metadata": {},
     "output_type": "display_data"
    },
    {
     "data": {
      "application/vnd.jupyter.widget-view+json": {
       "model_id": "9efd27cfc0ff47b2ac819b77e3bbdc96",
       "version_major": 2,
       "version_minor": 0
      },
      "text/plain": [
       "3:   0%|          | 0/15 [00:00<?, ?it/s]"
      ]
     },
     "metadata": {},
     "output_type": "display_data"
    },
    {
     "data": {
      "application/vnd.jupyter.widget-view+json": {
       "model_id": "3de01a351465484e86e95b797fb26ec2",
       "version_major": 2,
       "version_minor": 0
      },
      "text/plain": [
       "4:   0%|          | 0/14 [00:00<?, ?it/s]"
      ]
     },
     "metadata": {},
     "output_type": "display_data"
    },
    {
     "data": {
      "application/vnd.jupyter.widget-view+json": {
       "model_id": "f8e55741d3204c9e8069121dfede6415",
       "version_major": 2,
       "version_minor": 0
      },
      "text/plain": [
       "5:   0%|          | 0/15 [00:00<?, ?it/s]"
      ]
     },
     "metadata": {},
     "output_type": "display_data"
    }
   ],
   "source": [
    "#теперь пройдемся по последним 15 предложениям каждого диалога, чтобы найти \"прощание\"\n",
    "idx_parting = []\n",
    "threshold = 0.96\n",
    "for dlg_id in managers.dlg_id.unique():\n",
    "    for i in tqdm(managers[managers['dlg_id']== dlg_id].index.tolist()[-15:], desc=str(dlg_id)):\n",
    "        text = managers['lemm_text'].loc[i].lower().split()\n",
    "        length = len(text)\n",
    "        if length == 1:\n",
    "            idx_parting = find_idx(i, idx_parting, text, parting_embeddings1, threshold)\n",
    "        else: \n",
    "            for j in range(length): \n",
    "            \n",
    "                idx_parting = find_idx(i, idx_parting, text[j], parting_embeddings1, threshold)\n",
    "                idx_parting = find_idx(i, idx_parting, text[j:j+2], parting_embeddings2, threshold)\n",
    "\n",
    "idx_parting = set(idx_parting)"
   ]
  },
  {
   "cell_type": "code",
   "execution_count": 22,
   "id": "6ed9b4c8",
   "metadata": {},
   "outputs": [
    {
     "data": {
      "text/html": [
       "<div>\n",
       "<style scoped>\n",
       "    .dataframe tbody tr th:only-of-type {\n",
       "        vertical-align: middle;\n",
       "    }\n",
       "\n",
       "    .dataframe tbody tr th {\n",
       "        vertical-align: top;\n",
       "    }\n",
       "\n",
       "    .dataframe thead th {\n",
       "        text-align: right;\n",
       "    }\n",
       "</style>\n",
       "<table border=\"1\" class=\"dataframe\">\n",
       "  <thead>\n",
       "    <tr style=\"text-align: right;\">\n",
       "      <th></th>\n",
       "      <th>dlg_id</th>\n",
       "      <th>text</th>\n",
       "      <th>lemm_text</th>\n",
       "      <th>parting_flag</th>\n",
       "    </tr>\n",
       "  </thead>\n",
       "  <tbody>\n",
       "    <tr>\n",
       "      <th>479</th>\n",
       "      <td>5</td>\n",
       "      <td>Ну до свидания хорошего вечера</td>\n",
       "      <td>ну до свидание хороший вечер</td>\n",
       "      <td>True</td>\n",
       "    </tr>\n",
       "    <tr>\n",
       "      <th>163</th>\n",
       "      <td>1</td>\n",
       "      <td>До свидания</td>\n",
       "      <td>до свидание</td>\n",
       "      <td>True</td>\n",
       "    </tr>\n",
       "    <tr>\n",
       "      <th>108</th>\n",
       "      <td>0</td>\n",
       "      <td>Всего хорошего до свидания</td>\n",
       "      <td>весь хороший до свидание</td>\n",
       "      <td>True</td>\n",
       "    </tr>\n",
       "    <tr>\n",
       "      <th>335</th>\n",
       "      <td>4</td>\n",
       "      <td>Во вторник все ну с вами да тогда до вторника до свидания</td>\n",
       "      <td>в вторник всё ну с вы да тогда до вторник до свидание</td>\n",
       "      <td>True</td>\n",
       "    </tr>\n",
       "  </tbody>\n",
       "</table>\n",
       "</div>"
      ],
      "text/plain": [
       "     dlg_id                                                       text  \\\n",
       "479       5                             Ну до свидания хорошего вечера   \n",
       "163       1                                                До свидания   \n",
       "108       0                                 Всего хорошего до свидания   \n",
       "335       4  Во вторник все ну с вами да тогда до вторника до свидания   \n",
       "\n",
       "                                                 lemm_text  parting_flag  \n",
       "479                           ну до свидание хороший вечер          True  \n",
       "163                                            до свидание          True  \n",
       "108                               весь хороший до свидание          True  \n",
       "335  в вторник всё ну с вы да тогда до вторник до свидание          True  "
      ]
     },
     "execution_count": 22,
     "metadata": {},
     "output_type": "execute_result"
    }
   ],
   "source": [
    "parting_table = managers.loc[list(idx_parting)]\n",
    "parting_table['parting_flag'] = True\n",
    "parting_table"
   ]
  },
  {
   "cell_type": "code",
   "execution_count": 23,
   "id": "78e06341",
   "metadata": {},
   "outputs": [],
   "source": [
    "data['parting'] = False\n",
    "data.loc[list(idx_parting),'parting'] = True"
   ]
  },
  {
   "cell_type": "code",
   "execution_count": 24,
   "id": "8b69730a",
   "metadata": {},
   "outputs": [
    {
     "data": {
      "text/html": [
       "<div>\n",
       "<style scoped>\n",
       "    .dataframe tbody tr th:only-of-type {\n",
       "        vertical-align: middle;\n",
       "    }\n",
       "\n",
       "    .dataframe tbody tr th {\n",
       "        vertical-align: top;\n",
       "    }\n",
       "\n",
       "    .dataframe thead th {\n",
       "        text-align: right;\n",
       "    }\n",
       "</style>\n",
       "<table border=\"1\" class=\"dataframe\">\n",
       "  <thead>\n",
       "    <tr style=\"text-align: right;\">\n",
       "      <th></th>\n",
       "      <th>dlg_id</th>\n",
       "      <th>role</th>\n",
       "      <th>text</th>\n",
       "      <th>lemm_text</th>\n",
       "      <th>greeting_flag</th>\n",
       "      <th>parting</th>\n",
       "    </tr>\n",
       "  </thead>\n",
       "  <tbody>\n",
       "    <tr>\n",
       "      <th>0</th>\n",
       "      <td>0</td>\n",
       "      <td>manager</td>\n",
       "      <td>Алло</td>\n",
       "      <td>алло</td>\n",
       "      <td>False</td>\n",
       "      <td>False</td>\n",
       "    </tr>\n",
       "    <tr>\n",
       "      <th>1</th>\n",
       "      <td>0</td>\n",
       "      <td>client</td>\n",
       "      <td>Алло здравствуйте</td>\n",
       "      <td>алло здравствуйте</td>\n",
       "      <td>True</td>\n",
       "      <td>False</td>\n",
       "    </tr>\n",
       "    <tr>\n",
       "      <th>2</th>\n",
       "      <td>0</td>\n",
       "      <td>manager</td>\n",
       "      <td>Добрый день</td>\n",
       "      <td>добрый день</td>\n",
       "      <td>False</td>\n",
       "      <td>False</td>\n",
       "    </tr>\n",
       "    <tr>\n",
       "      <th>3</th>\n",
       "      <td>0</td>\n",
       "      <td>client</td>\n",
       "      <td>Меня зовут ангелина компания диджитал бизнес звоним вам по поводу продления лицензии а мы с серым у вас скоро срок заканчивается</td>\n",
       "      <td>я звать ангелина компания диджитал бизнес звонить вы по повод продление лицензия а мы с серый у вы скоро срок заканчиваться</td>\n",
       "      <td>False</td>\n",
       "      <td>False</td>\n",
       "    </tr>\n",
       "    <tr>\n",
       "      <th>4</th>\n",
       "      <td>0</td>\n",
       "      <td>manager</td>\n",
       "      <td>Ага</td>\n",
       "      <td>ага</td>\n",
       "      <td>False</td>\n",
       "      <td>False</td>\n",
       "    </tr>\n",
       "    <tr>\n",
       "      <th>...</th>\n",
       "      <td>...</td>\n",
       "      <td>...</td>\n",
       "      <td>...</td>\n",
       "      <td>...</td>\n",
       "      <td>...</td>\n",
       "      <td>...</td>\n",
       "    </tr>\n",
       "    <tr>\n",
       "      <th>475</th>\n",
       "      <td>5</td>\n",
       "      <td>client</td>\n",
       "      <td>По поводу виджетов и с ними уже обсудите конкретно продам</td>\n",
       "      <td>по повод виджет и с они уже обсудить конкретно продать</td>\n",
       "      <td>False</td>\n",
       "      <td>False</td>\n",
       "    </tr>\n",
       "    <tr>\n",
       "      <th>476</th>\n",
       "      <td>5</td>\n",
       "      <td>client</td>\n",
       "      <td>Все я вам высылаю счет и с вами на связи если будут вопросы можете писать на ватсапе</td>\n",
       "      <td>всё я вы высылать счёт и с вы на связь если быть вопрос мочь писать на ватсап</td>\n",
       "      <td>False</td>\n",
       "      <td>False</td>\n",
       "    </tr>\n",
       "    <tr>\n",
       "      <th>477</th>\n",
       "      <td>5</td>\n",
       "      <td>manager</td>\n",
       "      <td>Спасибо спасибо</td>\n",
       "      <td>спасибо спасибо</td>\n",
       "      <td>False</td>\n",
       "      <td>False</td>\n",
       "    </tr>\n",
       "    <tr>\n",
       "      <th>478</th>\n",
       "      <td>5</td>\n",
       "      <td>manager</td>\n",
       "      <td>Да да тогда созвонимся ага спасибо вам давайте</td>\n",
       "      <td>да да тогда созвониться ага спасибо вы давать</td>\n",
       "      <td>False</td>\n",
       "      <td>False</td>\n",
       "    </tr>\n",
       "    <tr>\n",
       "      <th>479</th>\n",
       "      <td>5</td>\n",
       "      <td>client</td>\n",
       "      <td>Ну до свидания хорошего вечера</td>\n",
       "      <td>ну до свидание хороший вечер</td>\n",
       "      <td>False</td>\n",
       "      <td>True</td>\n",
       "    </tr>\n",
       "  </tbody>\n",
       "</table>\n",
       "<p>480 rows × 6 columns</p>\n",
       "</div>"
      ],
      "text/plain": [
       "     dlg_id     role  \\\n",
       "0         0  manager   \n",
       "1         0   client   \n",
       "2         0  manager   \n",
       "3         0   client   \n",
       "4         0  manager   \n",
       "..      ...      ...   \n",
       "475       5   client   \n",
       "476       5   client   \n",
       "477       5  manager   \n",
       "478       5  manager   \n",
       "479       5   client   \n",
       "\n",
       "                                                                                                                                 text  \\\n",
       "0                                                                                                                                Алло   \n",
       "1                                                                                                                   Алло здравствуйте   \n",
       "2                                                                                                                         Добрый день   \n",
       "3    Меня зовут ангелина компания диджитал бизнес звоним вам по поводу продления лицензии а мы с серым у вас скоро срок заканчивается   \n",
       "4                                                                                                                                 Ага   \n",
       "..                                                                                                                                ...   \n",
       "475                                                                         По поводу виджетов и с ними уже обсудите конкретно продам   \n",
       "476                                              Все я вам высылаю счет и с вами на связи если будут вопросы можете писать на ватсапе   \n",
       "477                                                                                                                   Спасибо спасибо   \n",
       "478                                                                                    Да да тогда созвонимся ага спасибо вам давайте   \n",
       "479                                                                                                    Ну до свидания хорошего вечера   \n",
       "\n",
       "                                                                                                                       lemm_text  \\\n",
       "0                                                                                                                           алло   \n",
       "1                                                                                                              алло здравствуйте   \n",
       "2                                                                                                                    добрый день   \n",
       "3    я звать ангелина компания диджитал бизнес звонить вы по повод продление лицензия а мы с серый у вы скоро срок заканчиваться   \n",
       "4                                                                                                                            ага   \n",
       "..                                                                                                                           ...   \n",
       "475                                                                       по повод виджет и с они уже обсудить конкретно продать   \n",
       "476                                                всё я вы высылать счёт и с вы на связь если быть вопрос мочь писать на ватсап   \n",
       "477                                                                                                              спасибо спасибо   \n",
       "478                                                                                да да тогда созвониться ага спасибо вы давать   \n",
       "479                                                                                                 ну до свидание хороший вечер   \n",
       "\n",
       "     greeting_flag  parting  \n",
       "0            False    False  \n",
       "1             True    False  \n",
       "2            False    False  \n",
       "3            False    False  \n",
       "4            False    False  \n",
       "..             ...      ...  \n",
       "475          False    False  \n",
       "476          False    False  \n",
       "477          False    False  \n",
       "478          False    False  \n",
       "479          False     True  \n",
       "\n",
       "[480 rows x 6 columns]"
      ]
     },
     "execution_count": 24,
     "metadata": {},
     "output_type": "execute_result"
    }
   ],
   "source": [
    "data"
   ]
  },
  {
   "cell_type": "code",
   "execution_count": 25,
   "id": "62c2d3d0",
   "metadata": {},
   "outputs": [
    {
     "data": {
      "text/plain": [
       "{0, 1}"
      ]
     },
     "execution_count": 25,
     "metadata": {},
     "output_type": "execute_result"
    }
   ],
   "source": [
    "#смотрим, в каких диалогах менеджер и поздоровался, и попрощался\n",
    "set(managers.loc[list(idx_greeting)].dlg_id)&set(managers.loc[list(idx_parting)].dlg_id)"
   ]
  },
  {
   "cell_type": "code",
   "execution_count": 26,
   "id": "bd3e4ef5",
   "metadata": {},
   "outputs": [],
   "source": [
    "common = greeting_table[['dlg_id','text','greeting_flag']].merge(parting_table[['dlg_id', 'text', 'parting_flag']], on= 'dlg_id', how= 'outer')\n"
   ]
  },
  {
   "cell_type": "code",
   "execution_count": 27,
   "id": "5e011173",
   "metadata": {},
   "outputs": [
    {
     "data": {
      "text/html": [
       "<div>\n",
       "<style scoped>\n",
       "    .dataframe tbody tr th:only-of-type {\n",
       "        vertical-align: middle;\n",
       "    }\n",
       "\n",
       "    .dataframe tbody tr th {\n",
       "        vertical-align: top;\n",
       "    }\n",
       "\n",
       "    .dataframe thead th {\n",
       "        text-align: right;\n",
       "    }\n",
       "</style>\n",
       "<table border=\"1\" class=\"dataframe\">\n",
       "  <thead>\n",
       "    <tr style=\"text-align: right;\">\n",
       "      <th></th>\n",
       "      <th>dlg_id</th>\n",
       "      <th>text_x</th>\n",
       "      <th>greeting_flag</th>\n",
       "      <th>text_y</th>\n",
       "      <th>parting_flag</th>\n",
       "    </tr>\n",
       "  </thead>\n",
       "  <tbody>\n",
       "    <tr>\n",
       "      <th>0</th>\n",
       "      <td>0</td>\n",
       "      <td>Алло здравствуйте</td>\n",
       "      <td>True</td>\n",
       "      <td>Всего хорошего до свидания</td>\n",
       "      <td>True</td>\n",
       "    </tr>\n",
       "    <tr>\n",
       "      <th>1</th>\n",
       "      <td>2</td>\n",
       "      <td>Алло здравствуйте</td>\n",
       "      <td>True</td>\n",
       "      <td>NaN</td>\n",
       "      <td>NaN</td>\n",
       "    </tr>\n",
       "    <tr>\n",
       "      <th>2</th>\n",
       "      <td>1</td>\n",
       "      <td>Алло здравствуйте</td>\n",
       "      <td>True</td>\n",
       "      <td>До свидания</td>\n",
       "      <td>True</td>\n",
       "    </tr>\n",
       "    <tr>\n",
       "      <th>3</th>\n",
       "      <td>3</td>\n",
       "      <td>Алло дмитрий добрый день</td>\n",
       "      <td>True</td>\n",
       "      <td>NaN</td>\n",
       "      <td>NaN</td>\n",
       "    </tr>\n",
       "    <tr>\n",
       "      <th>4</th>\n",
       "      <td>3</td>\n",
       "      <td>Добрый меня максим зовут компания китобизнес удобно говорить</td>\n",
       "      <td>True</td>\n",
       "      <td>NaN</td>\n",
       "      <td>NaN</td>\n",
       "    </tr>\n",
       "    <tr>\n",
       "      <th>5</th>\n",
       "      <td>5</td>\n",
       "      <td>NaN</td>\n",
       "      <td>NaN</td>\n",
       "      <td>Ну до свидания хорошего вечера</td>\n",
       "      <td>True</td>\n",
       "    </tr>\n",
       "    <tr>\n",
       "      <th>6</th>\n",
       "      <td>4</td>\n",
       "      <td>NaN</td>\n",
       "      <td>NaN</td>\n",
       "      <td>Во вторник все ну с вами да тогда до вторника до свидания</td>\n",
       "      <td>True</td>\n",
       "    </tr>\n",
       "  </tbody>\n",
       "</table>\n",
       "</div>"
      ],
      "text/plain": [
       "   dlg_id                                                        text_x  \\\n",
       "0       0                                             Алло здравствуйте   \n",
       "1       2                                             Алло здравствуйте   \n",
       "2       1                                             Алло здравствуйте   \n",
       "3       3                                      Алло дмитрий добрый день   \n",
       "4       3  Добрый меня максим зовут компания китобизнес удобно говорить   \n",
       "5       5                                                           NaN   \n",
       "6       4                                                           NaN   \n",
       "\n",
       "  greeting_flag                                                     text_y  \\\n",
       "0          True                                 Всего хорошего до свидания   \n",
       "1          True                                                        NaN   \n",
       "2          True                                                До свидания   \n",
       "3          True                                                        NaN   \n",
       "4          True                                                        NaN   \n",
       "5           NaN                             Ну до свидания хорошего вечера   \n",
       "6           NaN  Во вторник все ну с вами да тогда до вторника до свидания   \n",
       "\n",
       "  parting_flag  \n",
       "0         True  \n",
       "1          NaN  \n",
       "2         True  \n",
       "3          NaN  \n",
       "4          NaN  \n",
       "5         True  \n",
       "6         True  "
      ]
     },
     "execution_count": 27,
     "metadata": {},
     "output_type": "execute_result"
    }
   ],
   "source": [
    "common"
   ]
  },
  {
   "cell_type": "markdown",
   "id": "7db2445b",
   "metadata": {},
   "source": [
    "# Имя"
   ]
  },
  {
   "cell_type": "markdown",
   "id": "36c4dba7",
   "metadata": {},
   "source": [
    "**Комментарий**\n",
    "\n",
    "Здесь воспользуемся библиотекой natasha. Она умеет выделять имена собсвтенные в русском языке. Но не всегда делает это верно. Поэтому извлечение имени делаем в два этапа:\n",
    "\n",
    " * Сначала воспользумся методом NamesExtractor, который отсеет все, что не является именем собсвенным.\n",
    "   <br><span style=\"color:red\"> Проблема:</span> Может прихватить что-то лишнее. Например, короткие предлоги или союзы - \"из\", \"по\", \"ли\" и т.д</br> \n",
    "   \n",
    "   \n",
    "   \n",
    " * Слова, изъятые c помощью метода NamesExtractor, дополнительно проверим на часть речи. \n",
    "   <br><span style=\"color:red\"> Проблема:</span> Захватывает слова (или звуки), которые можно встретить только в разговорной речи. К примеру, в тексте встретилось \"че\", и оно определялось как имя собственное.</br> Но самые короткие имена в русском языке - это \"Ия\" и \"Ян\". Учтем этот факт.\n",
    "   \n",
    " \n",
    " Так мы найдем только имена собсвенные в тексте. Но это не значит, что менеджер представился. Поэтому мы будем запоминать индекс найденного имени в тексте и смотреть, что стоит перед ним или после него. "
   ]
  },
  {
   "cell_type": "code",
   "execution_count": 28,
   "id": "b7cbf4cf",
   "metadata": {},
   "outputs": [],
   "source": [
    "#from natasha import NamesExtractor, MorphVocab\n",
    "\n",
    "\n",
    "from natasha import (\n",
    "    Segmenter,\n",
    "    \n",
    "    NewsEmbedding,\n",
    "    NewsMorphTagger,\n",
    "    NewsSyntaxParser,\n",
    "\n",
    "    MorphVocab,\n",
    "    NamesExtractor,\n",
    "                \n",
    "    Doc\n",
    ")\n",
    "\n",
    "segmenter = Segmenter()\n",
    "\n",
    "emb = NewsEmbedding()\n",
    "morph_tagger = NewsMorphTagger(emb)\n",
    "syntax_parser = NewsSyntaxParser(emb)\n",
    "\n",
    "\n",
    "morph_vocab = MorphVocab()\n",
    "extractor = NamesExtractor(morph_vocab)"
   ]
  },
  {
   "cell_type": "code",
   "execution_count": 29,
   "id": "2d784d62",
   "metadata": {},
   "outputs": [],
   "source": [
    "#managers = data[data['role'] == 'client'][['dlg_id','text','lemm_text']]"
   ]
  },
  {
   "cell_type": "code",
   "execution_count": 30,
   "id": "48fa9368",
   "metadata": {},
   "outputs": [],
   "source": [
    "key_words = ['это', 'звать', 'я'] #что ожидаем до или после имени собственного\n",
    "idx_names = []\n",
    "d = {}\n",
    "for idx, row in zip(managers.index, managers['lemm_text']):\n",
    "    matches = extractor(row)\n",
    "    for i, match in enumerate(matches):\n",
    "        if match.fact.first != None:\n",
    "            word = match.fact.first\n",
    "            word = word.capitalize() #на этом этапе natasha ошибется, если имя не с заглавной буквы\n",
    "            #print(word)\n",
    "            doc = Doc(word)\n",
    "\n",
    "            doc.segment(segmenter)\n",
    "            doc.tag_morph(morph_tagger)\n",
    "            doc.parse_syntax(syntax_parser)\n",
    "\n",
    "            sent = doc.sents[0]\n",
    "        \n",
    "            \n",
    "            try:\n",
    "                previous_idx = row.split().index(match.fact.first)-1\n",
    "                next_idx = row.split().index(match.fact.first)+1\n",
    "\n",
    "                \n",
    "                if (sent.morph.tokens[0].pos == 'PROPN' and (len(sent.morph.tokens[0].text)>2)           \\\n",
    "                                                            or sent.morph.tokens[0].text in [\"Ия\",\"Ян\"])  \\\n",
    "                                                        and (row.split()[previous_idx] in key_words        \\\n",
    "                                                        or row.split()[next_idx] in key_words):\n",
    "                    #print(f'Имя менеджера - {sent.morph.tokens[0].text}', f'Индекс диалога: {managers.loc[idx].dlg_id}', '-'*30, sep='\\n')\n",
    "                    d[managers.loc[idx].dlg_id] = sent.morph.tokens[0].text\n",
    "                    idx_names.append(idx)\n",
    "            except :\n",
    "                continue\n",
    "\n",
    "\n",
    "idx_names = set(idx_names)"
   ]
  },
  {
   "cell_type": "markdown",
   "id": "4769eb35",
   "metadata": {},
   "source": [
    "**Комментарий**\n",
    "\n",
    "Объединяя этот пункт и два предыдущих, можем сделать вывод, что только менеджер Ангелина поздоровалась и попрощалась в нулевом и первом диалогах."
   ]
  },
  {
   "cell_type": "code",
   "execution_count": 31,
   "id": "3c0f30f6",
   "metadata": {},
   "outputs": [
    {
     "data": {
      "text/html": [
       "<div>\n",
       "<style scoped>\n",
       "    .dataframe tbody tr th:only-of-type {\n",
       "        vertical-align: middle;\n",
       "    }\n",
       "\n",
       "    .dataframe tbody tr th {\n",
       "        vertical-align: top;\n",
       "    }\n",
       "\n",
       "    .dataframe thead th {\n",
       "        text-align: right;\n",
       "    }\n",
       "</style>\n",
       "<table border=\"1\" class=\"dataframe\">\n",
       "  <thead>\n",
       "    <tr style=\"text-align: right;\">\n",
       "      <th></th>\n",
       "      <th>dlg_id</th>\n",
       "      <th>manager</th>\n",
       "    </tr>\n",
       "  </thead>\n",
       "  <tbody>\n",
       "    <tr>\n",
       "      <th>0</th>\n",
       "      <td>0</td>\n",
       "      <td>Ангелина</td>\n",
       "    </tr>\n",
       "    <tr>\n",
       "      <th>1</th>\n",
       "      <td>1</td>\n",
       "      <td>Ангелина</td>\n",
       "    </tr>\n",
       "    <tr>\n",
       "      <th>2</th>\n",
       "      <td>2</td>\n",
       "      <td>Ангелина</td>\n",
       "    </tr>\n",
       "    <tr>\n",
       "      <th>3</th>\n",
       "      <td>3</td>\n",
       "      <td>Максим</td>\n",
       "    </tr>\n",
       "    <tr>\n",
       "      <th>4</th>\n",
       "      <td>5</td>\n",
       "      <td>Анастасия</td>\n",
       "    </tr>\n",
       "  </tbody>\n",
       "</table>\n",
       "</div>"
      ],
      "text/plain": [
       "   dlg_id    manager\n",
       "0       0   Ангелина\n",
       "1       1   Ангелина\n",
       "2       2   Ангелина\n",
       "3       3     Максим\n",
       "4       5  Анастасия"
      ]
     },
     "execution_count": 31,
     "metadata": {},
     "output_type": "execute_result"
    }
   ],
   "source": [
    "df = {'dlg_id':list(d.keys()), 'manager':list(d.values())}\n",
    "names = pd.DataFrame(data=df)\n",
    "names"
   ]
  },
  {
   "cell_type": "code",
   "execution_count": 32,
   "id": "27e8e6d2",
   "metadata": {},
   "outputs": [
    {
     "data": {
      "text/html": [
       "<div>\n",
       "<style scoped>\n",
       "    .dataframe tbody tr th:only-of-type {\n",
       "        vertical-align: middle;\n",
       "    }\n",
       "\n",
       "    .dataframe tbody tr th {\n",
       "        vertical-align: top;\n",
       "    }\n",
       "\n",
       "    .dataframe thead th {\n",
       "        text-align: right;\n",
       "    }\n",
       "</style>\n",
       "<table border=\"1\" class=\"dataframe\">\n",
       "  <thead>\n",
       "    <tr style=\"text-align: right;\">\n",
       "      <th></th>\n",
       "      <th>dlg_id</th>\n",
       "      <th>text</th>\n",
       "      <th>manager</th>\n",
       "    </tr>\n",
       "  </thead>\n",
       "  <tbody>\n",
       "    <tr>\n",
       "      <th>0</th>\n",
       "      <td>0</td>\n",
       "      <td>Меня зовут ангелина компания диджитал бизнес звоним вам по поводу продления лицензии а мы с серым у вас скоро срок заканчивается</td>\n",
       "      <td>Ангелина</td>\n",
       "    </tr>\n",
       "    <tr>\n",
       "      <th>1</th>\n",
       "      <td>2</td>\n",
       "      <td>Меня зовут ангелина компания диджитал бизнес звоню вам по поводу продления лицензии а мастера мы с вами сотрудничали по видео там</td>\n",
       "      <td>Ангелина</td>\n",
       "    </tr>\n",
       "    <tr>\n",
       "      <th>2</th>\n",
       "      <td>1</td>\n",
       "      <td>Меня зовут ангелина компания диджитал бизнес звоню вам по поводу продления а мы сели обратила внимание что у вас срок заканчивается</td>\n",
       "      <td>Ангелина</td>\n",
       "    </tr>\n",
       "    <tr>\n",
       "      <th>3</th>\n",
       "      <td>5</td>\n",
       "      <td>Да это анастасия</td>\n",
       "      <td>Анастасия</td>\n",
       "    </tr>\n",
       "    <tr>\n",
       "      <th>4</th>\n",
       "      <td>3</td>\n",
       "      <td>Добрый меня максим зовут компания китобизнес удобно говорить</td>\n",
       "      <td>Максим</td>\n",
       "    </tr>\n",
       "  </tbody>\n",
       "</table>\n",
       "</div>"
      ],
      "text/plain": [
       "   dlg_id  \\\n",
       "0       0   \n",
       "1       2   \n",
       "2       1   \n",
       "3       5   \n",
       "4       3   \n",
       "\n",
       "                                                                                                                                  text  \\\n",
       "0     Меня зовут ангелина компания диджитал бизнес звоним вам по поводу продления лицензии а мы с серым у вас скоро срок заканчивается   \n",
       "1    Меня зовут ангелина компания диджитал бизнес звоню вам по поводу продления лицензии а мастера мы с вами сотрудничали по видео там   \n",
       "2  Меня зовут ангелина компания диджитал бизнес звоню вам по поводу продления а мы сели обратила внимание что у вас срок заканчивается   \n",
       "3                                                                                                                     Да это анастасия   \n",
       "4                                                                         Добрый меня максим зовут компания китобизнес удобно говорить   \n",
       "\n",
       "     manager  \n",
       "0   Ангелина  \n",
       "1   Ангелина  \n",
       "2   Ангелина  \n",
       "3  Анастасия  \n",
       "4     Максим  "
      ]
     },
     "execution_count": 32,
     "metadata": {},
     "output_type": "execute_result"
    }
   ],
   "source": [
    "names_table = managers.loc[list(idx_names)]\n",
    "names_table = names_table[['dlg_id','text']].merge(names, on='dlg_id', how='inner')\n",
    "names_table"
   ]
  },
  {
   "cell_type": "code",
   "execution_count": 33,
   "id": "5414e314",
   "metadata": {},
   "outputs": [],
   "source": [
    "common = common.merge(names_table, on='dlg_id', how='outer')\n",
    "common.drop(index=4, axis=0, inplace=True)"
   ]
  },
  {
   "cell_type": "code",
   "execution_count": 34,
   "id": "d1a02def",
   "metadata": {},
   "outputs": [
    {
     "data": {
      "text/html": [
       "<div>\n",
       "<style scoped>\n",
       "    .dataframe tbody tr th:only-of-type {\n",
       "        vertical-align: middle;\n",
       "    }\n",
       "\n",
       "    .dataframe tbody tr th {\n",
       "        vertical-align: top;\n",
       "    }\n",
       "\n",
       "    .dataframe thead th {\n",
       "        text-align: right;\n",
       "    }\n",
       "</style>\n",
       "<table border=\"1\" class=\"dataframe\">\n",
       "  <thead>\n",
       "    <tr style=\"text-align: right;\">\n",
       "      <th></th>\n",
       "      <th>dlg_id</th>\n",
       "      <th>text_x</th>\n",
       "      <th>greeting_flag</th>\n",
       "      <th>text_y</th>\n",
       "      <th>parting_flag</th>\n",
       "      <th>text</th>\n",
       "      <th>manager</th>\n",
       "    </tr>\n",
       "  </thead>\n",
       "  <tbody>\n",
       "    <tr>\n",
       "      <th>0</th>\n",
       "      <td>0</td>\n",
       "      <td>Алло здравствуйте</td>\n",
       "      <td>True</td>\n",
       "      <td>Всего хорошего до свидания</td>\n",
       "      <td>True</td>\n",
       "      <td>Меня зовут ангелина компания диджитал бизнес звоним вам по поводу продления лицензии а мы с серым у вас скоро срок заканчивается</td>\n",
       "      <td>Ангелина</td>\n",
       "    </tr>\n",
       "    <tr>\n",
       "      <th>1</th>\n",
       "      <td>2</td>\n",
       "      <td>Алло здравствуйте</td>\n",
       "      <td>True</td>\n",
       "      <td>NaN</td>\n",
       "      <td>NaN</td>\n",
       "      <td>Меня зовут ангелина компания диджитал бизнес звоню вам по поводу продления лицензии а мастера мы с вами сотрудничали по видео там</td>\n",
       "      <td>Ангелина</td>\n",
       "    </tr>\n",
       "    <tr>\n",
       "      <th>2</th>\n",
       "      <td>1</td>\n",
       "      <td>Алло здравствуйте</td>\n",
       "      <td>True</td>\n",
       "      <td>До свидания</td>\n",
       "      <td>True</td>\n",
       "      <td>Меня зовут ангелина компания диджитал бизнес звоню вам по поводу продления а мы сели обратила внимание что у вас срок заканчивается</td>\n",
       "      <td>Ангелина</td>\n",
       "    </tr>\n",
       "    <tr>\n",
       "      <th>3</th>\n",
       "      <td>3</td>\n",
       "      <td>Алло дмитрий добрый день</td>\n",
       "      <td>True</td>\n",
       "      <td>NaN</td>\n",
       "      <td>NaN</td>\n",
       "      <td>Добрый меня максим зовут компания китобизнес удобно говорить</td>\n",
       "      <td>Максим</td>\n",
       "    </tr>\n",
       "    <tr>\n",
       "      <th>5</th>\n",
       "      <td>5</td>\n",
       "      <td>NaN</td>\n",
       "      <td>NaN</td>\n",
       "      <td>Ну до свидания хорошего вечера</td>\n",
       "      <td>True</td>\n",
       "      <td>Да это анастасия</td>\n",
       "      <td>Анастасия</td>\n",
       "    </tr>\n",
       "    <tr>\n",
       "      <th>6</th>\n",
       "      <td>4</td>\n",
       "      <td>NaN</td>\n",
       "      <td>NaN</td>\n",
       "      <td>Во вторник все ну с вами да тогда до вторника до свидания</td>\n",
       "      <td>True</td>\n",
       "      <td>NaN</td>\n",
       "      <td>NaN</td>\n",
       "    </tr>\n",
       "  </tbody>\n",
       "</table>\n",
       "</div>"
      ],
      "text/plain": [
       "   dlg_id                    text_x greeting_flag  \\\n",
       "0       0         Алло здравствуйте          True   \n",
       "1       2         Алло здравствуйте          True   \n",
       "2       1         Алло здравствуйте          True   \n",
       "3       3  Алло дмитрий добрый день          True   \n",
       "5       5                       NaN           NaN   \n",
       "6       4                       NaN           NaN   \n",
       "\n",
       "                                                      text_y parting_flag  \\\n",
       "0                                 Всего хорошего до свидания         True   \n",
       "1                                                        NaN          NaN   \n",
       "2                                                До свидания         True   \n",
       "3                                                        NaN          NaN   \n",
       "5                             Ну до свидания хорошего вечера         True   \n",
       "6  Во вторник все ну с вами да тогда до вторника до свидания         True   \n",
       "\n",
       "                                                                                                                                  text  \\\n",
       "0     Меня зовут ангелина компания диджитал бизнес звоним вам по поводу продления лицензии а мы с серым у вас скоро срок заканчивается   \n",
       "1    Меня зовут ангелина компания диджитал бизнес звоню вам по поводу продления лицензии а мастера мы с вами сотрудничали по видео там   \n",
       "2  Меня зовут ангелина компания диджитал бизнес звоню вам по поводу продления а мы сели обратила внимание что у вас срок заканчивается   \n",
       "3                                                                         Добрый меня максим зовут компания китобизнес удобно говорить   \n",
       "5                                                                                                                     Да это анастасия   \n",
       "6                                                                                                                                  NaN   \n",
       "\n",
       "     manager  \n",
       "0   Ангелина  \n",
       "1   Ангелина  \n",
       "2   Ангелина  \n",
       "3     Максим  \n",
       "5  Анастасия  \n",
       "6        NaN  "
      ]
     },
     "execution_count": 34,
     "metadata": {},
     "output_type": "execute_result"
    }
   ],
   "source": [
    "common"
   ]
  },
  {
   "cell_type": "markdown",
   "id": "a4fbe707",
   "metadata": {},
   "source": [
    "# Наименование организации"
   ]
  },
  {
   "cell_type": "code",
   "execution_count": 35,
   "id": "68d72cb0",
   "metadata": {},
   "outputs": [],
   "source": [
    "from yargy import Parser, rule, or_\n",
    "from yargy.interpretation import fact\n",
    "from yargy.predicates import gram, is_capitalized\n",
    "from yargy.pipelines import morph_pipeline"
   ]
  },
  {
   "cell_type": "code",
   "execution_count": 36,
   "id": "3b484fba",
   "metadata": {},
   "outputs": [],
   "source": [
    "Name = fact( \n",
    "    'Name', \n",
    "    ['surname', 'name', 'orgnm', 'abbr'])"
   ]
  },
  {
   "cell_type": "code",
   "execution_count": 37,
   "id": "4baf8be6",
   "metadata": {},
   "outputs": [],
   "source": [
    "ORGFORM = morph_pipeline([\n",
    "                       'ооо',\n",
    "                       'ип',\n",
    "                       'компания',\n",
    "                       'организация'\n",
    "])\n",
    "NAME = gram('Name').interpretation(Name.name)\n",
    "SURN = gram('Surn').interpretation( \n",
    "    Name.surname)\n",
    "ABBR = (is_capitalized()).interpretation( \n",
    "    Name.abbr)\n",
    "ORGNAME = gram('NOUN').interpretation(Name.orgnm) "
   ]
  },
  {
   "cell_type": "code",
   "execution_count": 38,
   "id": "30378255",
   "metadata": {},
   "outputs": [],
   "source": [
    "ORGANIZATION = or_( \n",
    "    rule(ORGFORM, NAME, SURN),\n",
    "    rule(ORGFORM, SURN, NAME),\n",
    "    rule(ORGFORM, ORGNAME, ORGNAME),\n",
    "    rule(ORGFORM, ORGNAME),\n",
    "    rule(ORGFORM, ABBR),\n",
    "    rule(ORGFORM, NAME, SURN, ABBR),\n",
    "    rule(ORGFORM, ORGNAME, ABBR)\n",
    ").interpretation(Name) "
   ]
  },
  {
   "cell_type": "code",
   "execution_count": 39,
   "id": "ab58c7b2",
   "metadata": {},
   "outputs": [],
   "source": [
    "orgparser = Parser(ORGANIZATION)\n",
    "\n",
    "def orgs_extract(text, parser):\n",
    "    for match in parser.findall(text):\n",
    "        found_values = match.tokens\n",
    "        company = [i.value for i in found_values]\n",
    "    try:\n",
    "        return company\n",
    "    except:\n",
    "        return \n"
   ]
  },
  {
   "cell_type": "code",
   "execution_count": 40,
   "id": "c85abe84",
   "metadata": {},
   "outputs": [],
   "source": [
    "rows_with_companies = {}\n",
    "for idx, row in zip(managers.index, managers['lemm_text']):\n",
    "    ans = orgs_extract(row, orgparser)\n",
    "    if ans != None:\n",
    "        rows_with_companies[idx] = orgs_extract(row, orgparser)\n",
    "    "
   ]
  },
  {
   "cell_type": "code",
   "execution_count": 41,
   "id": "7022f268",
   "metadata": {},
   "outputs": [
    {
     "data": {
      "text/plain": [
       "{3: ['компания', 'диджитал', 'бизнес'],\n",
       " 111: ['компания', 'диджитал', 'бизнес'],\n",
       " 167: ['компания', 'диджитал', 'бизнес'],\n",
       " 251: ['компания', 'китобизнес']}"
      ]
     },
     "execution_count": 41,
     "metadata": {},
     "output_type": "execute_result"
    }
   ],
   "source": [
    "rows_with_companies"
   ]
  },
  {
   "cell_type": "code",
   "execution_count": 42,
   "id": "576d52aa",
   "metadata": {},
   "outputs": [],
   "source": [
    "companies = [' '.join(rows_with_companies[key][1:]) for key in rows_with_companies]\n",
    "dlg = managers.loc[list(rows_with_companies.keys())]['dlg_id'].values.tolist()"
   ]
  },
  {
   "cell_type": "code",
   "execution_count": 43,
   "id": "ba7b4b41",
   "metadata": {},
   "outputs": [
    {
     "data": {
      "text/html": [
       "<div>\n",
       "<style scoped>\n",
       "    .dataframe tbody tr th:only-of-type {\n",
       "        vertical-align: middle;\n",
       "    }\n",
       "\n",
       "    .dataframe tbody tr th {\n",
       "        vertical-align: top;\n",
       "    }\n",
       "\n",
       "    .dataframe thead th {\n",
       "        text-align: right;\n",
       "    }\n",
       "</style>\n",
       "<table border=\"1\" class=\"dataframe\">\n",
       "  <thead>\n",
       "    <tr style=\"text-align: right;\">\n",
       "      <th></th>\n",
       "      <th>dlg_id</th>\n",
       "      <th>text</th>\n",
       "      <th>company</th>\n",
       "    </tr>\n",
       "  </thead>\n",
       "  <tbody>\n",
       "    <tr>\n",
       "      <th>3</th>\n",
       "      <td>0</td>\n",
       "      <td>Меня зовут ангелина компания диджитал бизнес звоним вам по поводу продления лицензии а мы с серым у вас скоро срок заканчивается</td>\n",
       "      <td>диджитал бизнес</td>\n",
       "    </tr>\n",
       "    <tr>\n",
       "      <th>111</th>\n",
       "      <td>1</td>\n",
       "      <td>Меня зовут ангелина компания диджитал бизнес звоню вам по поводу продления а мы сели обратила внимание что у вас срок заканчивается</td>\n",
       "      <td>диджитал бизнес</td>\n",
       "    </tr>\n",
       "    <tr>\n",
       "      <th>167</th>\n",
       "      <td>2</td>\n",
       "      <td>Меня зовут ангелина компания диджитал бизнес звоню вам по поводу продления лицензии а мастера мы с вами сотрудничали по видео там</td>\n",
       "      <td>диджитал бизнес</td>\n",
       "    </tr>\n",
       "    <tr>\n",
       "      <th>251</th>\n",
       "      <td>3</td>\n",
       "      <td>Добрый меня максим зовут компания китобизнес удобно говорить</td>\n",
       "      <td>китобизнес</td>\n",
       "    </tr>\n",
       "  </tbody>\n",
       "</table>\n",
       "</div>"
      ],
      "text/plain": [
       "     dlg_id  \\\n",
       "3         0   \n",
       "111       1   \n",
       "167       2   \n",
       "251       3   \n",
       "\n",
       "                                                                                                                                    text  \\\n",
       "3       Меня зовут ангелина компания диджитал бизнес звоним вам по поводу продления лицензии а мы с серым у вас скоро срок заканчивается   \n",
       "111  Меня зовут ангелина компания диджитал бизнес звоню вам по поводу продления а мы сели обратила внимание что у вас срок заканчивается   \n",
       "167    Меня зовут ангелина компания диджитал бизнес звоню вам по поводу продления лицензии а мастера мы с вами сотрудничали по видео там   \n",
       "251                                                                         Добрый меня максим зовут компания китобизнес удобно говорить   \n",
       "\n",
       "             company  \n",
       "3    диджитал бизнес  \n",
       "111  диджитал бизнес  \n",
       "167  диджитал бизнес  \n",
       "251       китобизнес  "
      ]
     },
     "execution_count": 43,
     "metadata": {},
     "output_type": "execute_result"
    }
   ],
   "source": [
    "df = {'dlg_id': dlg, 'text':managers.loc[list(rows_with_companies.keys())]['text'], 'company': companies}\n",
    "companies_table = pd.DataFrame(data=df)\n",
    "companies_table"
   ]
  },
  {
   "cell_type": "markdown",
   "id": "541ad831",
   "metadata": {},
   "source": [
    "**Общая таблица**"
   ]
  },
  {
   "cell_type": "code",
   "execution_count": 44,
   "id": "8c06a90f",
   "metadata": {},
   "outputs": [],
   "source": [
    "common = common.merge(companies_table[['dlg_id','company']], on= 'dlg_id', how= 'outer')"
   ]
  },
  {
   "cell_type": "code",
   "execution_count": 45,
   "id": "c90c6427",
   "metadata": {},
   "outputs": [
    {
     "data": {
      "text/html": [
       "<div>\n",
       "<style scoped>\n",
       "    .dataframe tbody tr th:only-of-type {\n",
       "        vertical-align: middle;\n",
       "    }\n",
       "\n",
       "    .dataframe tbody tr th {\n",
       "        vertical-align: top;\n",
       "    }\n",
       "\n",
       "    .dataframe thead th {\n",
       "        text-align: right;\n",
       "    }\n",
       "</style>\n",
       "<table border=\"1\" class=\"dataframe\">\n",
       "  <thead>\n",
       "    <tr style=\"text-align: right;\">\n",
       "      <th></th>\n",
       "      <th>dlg_id</th>\n",
       "      <th>greeting</th>\n",
       "      <th>greeting_flag</th>\n",
       "      <th>parting</th>\n",
       "      <th>parting_flag</th>\n",
       "      <th>introduction</th>\n",
       "      <th>manager</th>\n",
       "      <th>company</th>\n",
       "    </tr>\n",
       "  </thead>\n",
       "  <tbody>\n",
       "    <tr>\n",
       "      <th>0</th>\n",
       "      <td>0</td>\n",
       "      <td>Алло здравствуйте</td>\n",
       "      <td>True</td>\n",
       "      <td>Всего хорошего до свидания</td>\n",
       "      <td>True</td>\n",
       "      <td>Меня зовут ангелина компания диджитал бизнес звоним вам по поводу продления лицензии а мы с серым у вас скоро срок заканчивается</td>\n",
       "      <td>Ангелина</td>\n",
       "      <td>диджитал бизнес</td>\n",
       "    </tr>\n",
       "    <tr>\n",
       "      <th>2</th>\n",
       "      <td>1</td>\n",
       "      <td>Алло здравствуйте</td>\n",
       "      <td>True</td>\n",
       "      <td>До свидания</td>\n",
       "      <td>True</td>\n",
       "      <td>Меня зовут ангелина компания диджитал бизнес звоню вам по поводу продления а мы сели обратила внимание что у вас срок заканчивается</td>\n",
       "      <td>Ангелина</td>\n",
       "      <td>диджитал бизнес</td>\n",
       "    </tr>\n",
       "    <tr>\n",
       "      <th>1</th>\n",
       "      <td>2</td>\n",
       "      <td>Алло здравствуйте</td>\n",
       "      <td>True</td>\n",
       "      <td>NaN</td>\n",
       "      <td>False</td>\n",
       "      <td>Меня зовут ангелина компания диджитал бизнес звоню вам по поводу продления лицензии а мастера мы с вами сотрудничали по видео там</td>\n",
       "      <td>Ангелина</td>\n",
       "      <td>диджитал бизнес</td>\n",
       "    </tr>\n",
       "    <tr>\n",
       "      <th>3</th>\n",
       "      <td>3</td>\n",
       "      <td>Алло дмитрий добрый день</td>\n",
       "      <td>True</td>\n",
       "      <td>NaN</td>\n",
       "      <td>False</td>\n",
       "      <td>Добрый меня максим зовут компания китобизнес удобно говорить</td>\n",
       "      <td>Максим</td>\n",
       "      <td>китобизнес</td>\n",
       "    </tr>\n",
       "    <tr>\n",
       "      <th>5</th>\n",
       "      <td>4</td>\n",
       "      <td>NaN</td>\n",
       "      <td>False</td>\n",
       "      <td>Во вторник все ну с вами да тогда до вторника до свидания</td>\n",
       "      <td>True</td>\n",
       "      <td>NaN</td>\n",
       "      <td>NaN</td>\n",
       "      <td>NaN</td>\n",
       "    </tr>\n",
       "    <tr>\n",
       "      <th>4</th>\n",
       "      <td>5</td>\n",
       "      <td>NaN</td>\n",
       "      <td>False</td>\n",
       "      <td>Ну до свидания хорошего вечера</td>\n",
       "      <td>True</td>\n",
       "      <td>Да это анастасия</td>\n",
       "      <td>Анастасия</td>\n",
       "      <td>NaN</td>\n",
       "    </tr>\n",
       "  </tbody>\n",
       "</table>\n",
       "</div>"
      ],
      "text/plain": [
       "   dlg_id                  greeting greeting_flag  \\\n",
       "0       0         Алло здравствуйте          True   \n",
       "2       1         Алло здравствуйте          True   \n",
       "1       2         Алло здравствуйте          True   \n",
       "3       3  Алло дмитрий добрый день          True   \n",
       "5       4                       NaN         False   \n",
       "4       5                       NaN         False   \n",
       "\n",
       "                                                     parting parting_flag  \\\n",
       "0                                 Всего хорошего до свидания         True   \n",
       "2                                                До свидания         True   \n",
       "1                                                        NaN        False   \n",
       "3                                                        NaN        False   \n",
       "5  Во вторник все ну с вами да тогда до вторника до свидания         True   \n",
       "4                             Ну до свидания хорошего вечера         True   \n",
       "\n",
       "                                                                                                                          introduction  \\\n",
       "0     Меня зовут ангелина компания диджитал бизнес звоним вам по поводу продления лицензии а мы с серым у вас скоро срок заканчивается   \n",
       "2  Меня зовут ангелина компания диджитал бизнес звоню вам по поводу продления а мы сели обратила внимание что у вас срок заканчивается   \n",
       "1    Меня зовут ангелина компания диджитал бизнес звоню вам по поводу продления лицензии а мастера мы с вами сотрудничали по видео там   \n",
       "3                                                                         Добрый меня максим зовут компания китобизнес удобно говорить   \n",
       "5                                                                                                                                  NaN   \n",
       "4                                                                                                                     Да это анастасия   \n",
       "\n",
       "     manager          company  \n",
       "0   Ангелина  диджитал бизнес  \n",
       "2   Ангелина  диджитал бизнес  \n",
       "1   Ангелина  диджитал бизнес  \n",
       "3     Максим       китобизнес  \n",
       "5        NaN              NaN  \n",
       "4  Анастасия              NaN  "
      ]
     },
     "execution_count": 45,
     "metadata": {},
     "output_type": "execute_result"
    }
   ],
   "source": [
    "columns = ['dlg_id', 'greeting', 'greeting_flag', 'parting', 'parting_flag', 'introduction', 'manager', 'company']\n",
    "common.columns = columns\n",
    "common.sort_values(by='dlg_id', inplace=True)\n",
    "common.loc[common[\"greeting_flag\"].isna(), \"greeting_flag\"] = False\n",
    "common.loc[common[\"parting_flag\"].isna(), \"parting_flag\"] = False\n",
    "\n",
    "common"
   ]
  },
  {
   "cell_type": "code",
   "execution_count": null,
   "id": "59ef7b84",
   "metadata": {},
   "outputs": [],
   "source": []
  },
  {
   "cell_type": "code",
   "execution_count": null,
   "id": "342bf85a",
   "metadata": {},
   "outputs": [],
   "source": []
  }
 ],
 "metadata": {
  "kernelspec": {
   "display_name": "Python 3 (ipykernel)",
   "language": "python",
   "name": "python3"
  },
  "language_info": {
   "codemirror_mode": {
    "name": "ipython",
    "version": 3
   },
   "file_extension": ".py",
   "mimetype": "text/x-python",
   "name": "python",
   "nbconvert_exporter": "python",
   "pygments_lexer": "ipython3",
   "version": "3.9.13"
  }
 },
 "nbformat": 4,
 "nbformat_minor": 5
}
